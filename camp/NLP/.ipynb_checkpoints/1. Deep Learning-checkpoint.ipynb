{
 "cells": [
  {
   "cell_type": "code",
   "execution_count": null,
   "id": "industrial-cuisine",
   "metadata": {},
   "outputs": [],
   "source": [
    "Why we need deep learning?\n",
    "    Is deep learning always better than traditional ML method?"
   ]
  },
  {
   "cell_type": "markdown",
   "id": "secure-receipt",
   "metadata": {},
   "source": [
    "## Neural Network Layers/Building blocks"
   ]
  },
  {
   "cell_type": "markdown",
   "id": "celtic-snapshot",
   "metadata": {},
   "source": [
    "All Connect Layer"
   ]
  },
  {
   "cell_type": "markdown",
   "id": "dress-advice",
   "metadata": {},
   "source": [
    "Convolution Layer"
   ]
  },
  {
   "cell_type": "markdown",
   "id": "saved-wisconsin",
   "metadata": {},
   "source": [
    "Max Pooling and Average Pooling"
   ]
  },
  {
   "cell_type": "markdown",
   "id": "monetary-filling",
   "metadata": {},
   "source": [
    "Activation Function: Sigmoid (formulae), ReLU"
   ]
  },
  {
   "cell_type": "markdown",
   "id": "intermediate-investor",
   "metadata": {},
   "source": [
    "Output Layer: Softmax layer, "
   ]
  },
  {
   "cell_type": "markdown",
   "id": "ignored-freeware",
   "metadata": {},
   "source": [
    "Residual Connect"
   ]
  },
  {
   "cell_type": "markdown",
   "id": "specific-chart",
   "metadata": {},
   "source": [
    "Dropout"
   ]
  },
  {
   "cell_type": "markdown",
   "id": "positive-mother",
   "metadata": {},
   "source": [
    "self attention "
   ]
  },
  {
   "cell_type": "markdown",
   "id": "complicated-spending",
   "metadata": {},
   "source": [
    "<font color='red'>Question:</font> How dropout is implemented?"
   ]
  },
  {
   "cell_type": "markdown",
   "id": "accurate-baghdad",
   "metadata": {},
   "source": [
    "## Nerual Network Architectures\n",
    "MLP, CNN, RNN, and transformers are 4 types of fundamental neural network model architectures. Any fancy models are some kind of variant/composition of these four types of models. Let's take a look at the architectures of these four types of models. \n",
    "\n",
    "The \n"
   ]
  },
  {
   "cell_type": "code",
   "execution_count": null,
   "id": "defensive-halifax",
   "metadata": {},
   "outputs": [],
   "source": []
  },
  {
   "cell_type": "markdown",
   "id": "indoor-developer",
   "metadata": {},
   "source": [
    "## Deep learning problems"
   ]
  },
  {
   "cell_type": "markdown",
   "id": "higher-product",
   "metadata": {},
   "source": [
    "<font color='red'>Question:</font> What are the parameters in your deep learning model? How to adjust them?"
   ]
  },
  {
   "cell_type": "markdown",
   "id": "critical-judges",
   "metadata": {},
   "source": [
    "<font color='red'>Question:</font> What is batch normalization and layer normalization? what problems do they solve and why?"
   ]
  },
  {
   "cell_type": "markdown",
   "id": "announced-mountain",
   "metadata": {},
   "source": [
    "<font color='red'>Question:</font> What are gradient vanishing and explosion? How to avoid them?"
   ]
  },
  {
   "cell_type": "markdown",
   "id": "graphic-globe",
   "metadata": {},
   "source": [
    "<font color='red'>Question:</font> what will happen if the batch size is too big or too small?"
   ]
  },
  {
   "cell_type": "markdown",
   "id": "metric-usage",
   "metadata": {},
   "source": [
    "<font color='red'>Question:</font> How to avoid overfitting in deep learning?"
   ]
  },
  {
   "cell_type": "code",
   "execution_count": null,
   "id": "sonic-employer",
   "metadata": {},
   "outputs": [],
   "source": []
  },
  {
   "cell_type": "markdown",
   "id": "portuguese-battle",
   "metadata": {},
   "source": [
    "## Hand-on CV project using RESNET 50 on Pytorch"
   ]
  },
  {
   "cell_type": "code",
   "execution_count": null,
   "id": "working-avatar",
   "metadata": {},
   "outputs": [],
   "source": []
  }
 ],
 "metadata": {
  "kernelspec": {
   "display_name": "Python 3",
   "language": "python",
   "name": "python3"
  },
  "language_info": {
   "codemirror_mode": {
    "name": "ipython",
    "version": 3
   },
   "file_extension": ".py",
   "mimetype": "text/x-python",
   "name": "python",
   "nbconvert_exporter": "python",
   "pygments_lexer": "ipython3",
   "version": "3.9.2"
  }
 },
 "nbformat": 4,
 "nbformat_minor": 5
}

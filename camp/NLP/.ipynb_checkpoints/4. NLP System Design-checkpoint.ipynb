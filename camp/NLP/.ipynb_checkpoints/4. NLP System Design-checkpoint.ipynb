{
 "cells": [
  {
   "cell_type": "code",
   "execution_count": null,
   "id": "functioning-danish",
   "metadata": {},
   "outputs": [],
   "source": [
    "Machine Learning System Design\n",
    "    How to design an ads system?\n",
    "    How to design a recommendation system?\n",
    "    How to build a tagging system for 10000 classes? Taxonomy. \n",
    "    How to build a dialog system? A Chatbot?\n",
    "    How to build a fraud detection system?\n",
    "    Ranking system. \n",
    "    Search/Query system. "
   ]
  },
  {
   "cell_type": "markdown",
   "id": "received-editor",
   "metadata": {},
   "source": [
    "# System Design/Case study "
   ]
  },
  {
   "cell_type": "markdown",
   "id": "intended-gospel",
   "metadata": {},
   "source": [
    "The System Design or Case study questions are usually highly related to the business background of the interviews and companeis. The interviewers usaully asks questions they find challenging but have a good understanding themselves. To prepare for this kind of problems, you need to 1) Have a general ideas of commonly asked ML systems: recommendation syste, personalized ads, tagging systems. 2) Have a deep understanding of the business model of the companies/groups you are applying for. "
   ]
  },
  {
   "cell_type": "markdown",
   "id": "violent-unemployment",
   "metadata": {},
   "source": [
    "## Let's look at some examples, and anwser the following questions for each company:\n",
    "#### 1. How many parties are there in their business model?\n",
    "#### 2. What are the scales for each party? Multi-marketplace, multi-lingual?\n",
    "#### 3. What data do we have for each party, what are the keep features for them? \n",
    "#### 4. How the different parties are interacting with each other? List a few relationships between them and estimate the scale of the relationships. \n",
    "#### 5. What are the most important business metrics? How to measure success? \n",
    "#### 6. What business problems might be challenging? How can ML chime in to solve problems?"
   ]
  },
  {
   "cell_type": "markdown",
   "id": "fossil-institution",
   "metadata": {},
   "source": [
    "<font color='red'>Assignment:</font> Answer the above questions for your current company and current group. "
   ]
  },
  {
   "cell_type": "markdown",
   "id": "progressive-marina",
   "metadata": {},
   "source": [
    "<font color='red'>Assignment:</font> Choose one company/group that you are interested in and answer the 5 questions above. "
   ]
  },
  {
   "cell_type": "markdown",
   "id": "concerned-tradition",
   "metadata": {},
   "source": [
    "## 1. eCommerce: Amazon, Walmart, Taobao, AliJD, Weee! "
   ]
  },
  {
   "cell_type": "markdown",
   "id": "experimental-italian",
   "metadata": {},
   "source": [
    "1. Sellers, products, buyers, Amazon platform\n",
    "2. Sellers: million? Products: Billions. Buyers: Billions. Amazon: Revenue hundreds of billions. \n",
    "3. Sellers: vendor, vendor revenue, Number of employee, vendor \n",
    "   Products: Unstructured data: title, bullets, images, videos, reviews, QA. Structured data: brand, color, size, model, price, last year revenue, last year profit, days since launched, number of offers, rating\n",
    "   Buyers: address, browsing history-->gender, age, intention.\n",
    "   Amazon: Total revenue, total profit, search, detail page, ads. \n",
    "4. Buyers--products: search, click, glance view, put into cart, paid, shipped, return, billions per day scale. \n",
    "   product-product: co-view, co-purchase, \n",
    "   Sellers--Amazon: gift guide, shopping guide, event, sponsored products\n",
    "5. Revenue, profit\n",
    "6. Helping customers find the product they need out of billions of products. Recommendation system. \n",
    "   Ranking the hundreds of products from the search query. \n",
    "   Building a database for billion of products. Information extraction. "
   ]
  },
  {
   "cell_type": "markdown",
   "id": "caring-breed",
   "metadata": {},
   "source": [
    "## 2. Uber"
   ]
  },
  {
   "cell_type": "markdown",
   "id": "continued-welcome",
   "metadata": {},
   "source": [
    "1. Driver, rider, stores for Uber eats, Uber platform. \n",
    "2. Driver: million. Rider: billion. Stores: million? Uber: ten billion $ scale company.\n",
    "3. Driver: gender, age, number of ride provide in the last 7, 30, 180 days, average distance, review, rating, blacklist. registration time. \n",
    "   Rider: gender, age, income, frequent visit place, number of rides in the last 7, 30, 180 days. Average distance, review, rating, blacklist, registration time, payment method, home address. \n",
    "4. driver--rider: Uber eats and Uber ride--> trips. starting location, ending location, distance, time estimation, actual time. detour or not. \n",
    "5. Revenue and profit, incident rate for safety. \n",
    "6. Identification of bad drivers and bad passengers. Identifying fraud. Pricing model for ride sharing. \n"
   ]
  },
  {
   "cell_type": "code",
   "execution_count": 4,
   "id": "stupid-applicant",
   "metadata": {},
   "outputs": [],
   "source": [
    "## 3. Meta"
   ]
  },
  {
   "cell_type": "markdown",
   "id": "animal-pledge",
   "metadata": {},
   "source": [
    "## 4. Tik Tok"
   ]
  },
  {
   "cell_type": "code",
   "execution_count": null,
   "id": "prompt-cincinnati",
   "metadata": {},
   "outputs": [],
   "source": [
    "1. creator, short videos, viewer, marketplace \n",
    "2. "
   ]
  },
  {
   "cell_type": "markdown",
   "id": "about-synthesis",
   "metadata": {},
   "source": [
    "# General Introductions to popular systems "
   ]
  },
  {
   "cell_type": "code",
   "execution_count": null,
   "id": "heavy-equilibrium",
   "metadata": {},
   "outputs": [],
   "source": [
    "ads system?\n",
    "recommendation system?\n",
    "Classification system, Taxonomy, tagging system \n",
    "Information Retrieval System like search/query system\n",
    "\n",
    "dialog system and Chatbot\n",
    "\n",
    "fraud detection system?\n",
    "Ranking system. \n",
    "Search/Query system. \n",
    "    "
   ]
  },
  {
   "cell_type": "markdown",
   "id": "formed-thumbnail",
   "metadata": {},
   "source": [
    "## After understanding the business model,  you can start designing the ML system to meet the need. "
   ]
  },
  {
   "cell_type": "markdown",
   "id": "completed-portuguese",
   "metadata": {},
   "source": [
    "Real Problem\n",
    "1. A ride sharing company: Uyi is expanding its service in Columbia. One day, a product manager mentioned she received multiple complaint about driver who drive extremely aggressively from passengers. Come up with a system to solve this problem. \n",
    "2. The same ride-sharing company Uyi was involved in multiple driver robbery. The leadership team is extremely concerned because the local media reported this issue. Come up with a system to solve this problem. \n",
    "3. A eCommerce company is trying to solve a problem of return rate too high for cellphone case. Analyse this problem. \n",
    "   A PM noticed that a major problem is that the case is not compatible with the phone. Propose a solution to this. \n",
    "4. One consulting company would like to develop a unified solution to customer services. The data include: \n",
    "a. recording of customer service calls. \n",
    "b. customer online chat\n",
    "    The industry include manufacturing, eCommerce, finance etc. \n",
    "    Build the solution. \n",
    "    \n",
    "5. An online shopping company want to recommend similar items to the current item the customer is browsing. Design this system. \n",
    "6. After making the system based on similarity, the scientist finds that the top recommended items are the same product with varying spec, e.g. iPhone 14 64G --> iPhone 14 128G. How can you solve this problem?\n",
    "\n"
   ]
  }
 ],
 "metadata": {
  "kernelspec": {
   "display_name": "Python 3",
   "language": "python",
   "name": "python3"
  },
  "language_info": {
   "codemirror_mode": {
    "name": "ipython",
    "version": 3
   },
   "file_extension": ".py",
   "mimetype": "text/x-python",
   "name": "python",
   "nbconvert_exporter": "python",
   "pygments_lexer": "ipython3",
   "version": "3.9.2"
  }
 },
 "nbformat": 4,
 "nbformat_minor": 5
}
